{
 "cells": [
  {
   "cell_type": "markdown",
   "metadata": {},
   "source": [
    "# Deliverable 3. Create a Travel Itinerary Map.\n",
    "----\n",
    "1. Import the vacation CSV file. \n",
    "2. From the map above with pick 4 cities that are in close proximity (on the same continent) that the customer would travel to and create a directions layer map.\n",
    "3. For the \"travel_mode\" use either \"DRIVING\", \"BICYCLING\", or \"WALKING\".\n",
    "4. Take a screenshot of the route and save it. \n",
    "5. Then create a marker layer for the four cities. Each city will should have a pop-up marker that contains\n",
    "    - The hotel name\n",
    "    - The city\n",
    "    - The country\n",
    "    - The current weather description and the maximum temperature\n",
    "---"
   ]
  },
  {
   "cell_type": "markdown",
   "metadata": {},
   "source": [
    "## Make sure the initial dependencies and the Google API key are imported."
   ]
  },
  {
   "cell_type": "code",
   "execution_count": 1,
   "metadata": {},
   "outputs": [],
   "source": [
    "# Dependencies and Setup\n",
    "import pandas as pd\n",
    "import requests\n",
    "import gmaps\n",
    "\n",
    "# Import API key\n",
    "from config import g_key"
   ]
  },
  {
   "cell_type": "code",
   "execution_count": 2,
   "metadata": {},
   "outputs": [],
   "source": [
    "# Configure gmaps\n",
    "gmaps.configure(api_key=g_key)"
   ]
  },
  {
   "cell_type": "markdown",
   "metadata": {},
   "source": [
    "## From your `Vacation_Search` folder from Deliverable 2, import the `WeatherPy_vacation.csv` file as a DataFrame named `vacation_df`"
   ]
  },
  {
   "cell_type": "code",
   "execution_count": 7,
   "metadata": {},
   "outputs": [
    {
     "data": {
      "text/html": [
       "<div>\n",
       "<style scoped>\n",
       "    .dataframe tbody tr th:only-of-type {\n",
       "        vertical-align: middle;\n",
       "    }\n",
       "\n",
       "    .dataframe tbody tr th {\n",
       "        vertical-align: top;\n",
       "    }\n",
       "\n",
       "    .dataframe thead th {\n",
       "        text-align: right;\n",
       "    }\n",
       "</style>\n",
       "<table border=\"1\" class=\"dataframe\">\n",
       "  <thead>\n",
       "    <tr style=\"text-align: right;\">\n",
       "      <th></th>\n",
       "      <th>City_ID</th>\n",
       "      <th>City</th>\n",
       "      <th>Country</th>\n",
       "      <th>Max Temp</th>\n",
       "      <th>Current Description</th>\n",
       "      <th>Lat</th>\n",
       "      <th>Lng</th>\n",
       "      <th>Hotel Name</th>\n",
       "    </tr>\n",
       "  </thead>\n",
       "  <tbody>\n",
       "    <tr>\n",
       "      <th>0</th>\n",
       "      <td>1</td>\n",
       "      <td>Kandrian</td>\n",
       "      <td>PG</td>\n",
       "      <td>75.61</td>\n",
       "      <td>overcast clouds</td>\n",
       "      <td>-6.2167</td>\n",
       "      <td>149.5500</td>\n",
       "      <td>Kandrian Station</td>\n",
       "    </tr>\n",
       "    <tr>\n",
       "      <th>1</th>\n",
       "      <td>2</td>\n",
       "      <td>Port Elizabeth</td>\n",
       "      <td>ZA</td>\n",
       "      <td>64.69</td>\n",
       "      <td>clear sky</td>\n",
       "      <td>-33.9180</td>\n",
       "      <td>25.5701</td>\n",
       "      <td>39 On Nile Guest House</td>\n",
       "    </tr>\n",
       "    <tr>\n",
       "      <th>2</th>\n",
       "      <td>4</td>\n",
       "      <td>Ahipara</td>\n",
       "      <td>NZ</td>\n",
       "      <td>62.31</td>\n",
       "      <td>scattered clouds</td>\n",
       "      <td>-35.1667</td>\n",
       "      <td>173.1667</td>\n",
       "      <td>Ahipara Holiday Park</td>\n",
       "    </tr>\n",
       "    <tr>\n",
       "      <th>3</th>\n",
       "      <td>5</td>\n",
       "      <td>Bluff</td>\n",
       "      <td>NZ</td>\n",
       "      <td>58.80</td>\n",
       "      <td>broken clouds</td>\n",
       "      <td>-46.6000</td>\n",
       "      <td>168.3333</td>\n",
       "      <td>Bluff Homestead - Guesthouse &amp; Campervan Park</td>\n",
       "    </tr>\n",
       "    <tr>\n",
       "      <th>4</th>\n",
       "      <td>6</td>\n",
       "      <td>Rikitea</td>\n",
       "      <td>PF</td>\n",
       "      <td>74.52</td>\n",
       "      <td>overcast clouds</td>\n",
       "      <td>-23.1203</td>\n",
       "      <td>-134.9692</td>\n",
       "      <td>People ThankYou</td>\n",
       "    </tr>\n",
       "  </tbody>\n",
       "</table>\n",
       "</div>"
      ],
      "text/plain": [
       "   City_ID            City Country  Max Temp Current Description      Lat  \\\n",
       "0        1        Kandrian      PG     75.61     overcast clouds  -6.2167   \n",
       "1        2  Port Elizabeth      ZA     64.69           clear sky -33.9180   \n",
       "2        4         Ahipara      NZ     62.31    scattered clouds -35.1667   \n",
       "3        5           Bluff      NZ     58.80       broken clouds -46.6000   \n",
       "4        6         Rikitea      PF     74.52     overcast clouds -23.1203   \n",
       "\n",
       "        Lng                                     Hotel Name  \n",
       "0  149.5500                               Kandrian Station  \n",
       "1   25.5701                         39 On Nile Guest House  \n",
       "2  173.1667                           Ahipara Holiday Park  \n",
       "3  168.3333  Bluff Homestead - Guesthouse & Campervan Park  \n",
       "4 -134.9692                                People ThankYou  "
      ]
     },
     "execution_count": 7,
     "metadata": {},
     "output_type": "execute_result"
    }
   ],
   "source": [
    "# Set the file path to import the WeatherPy_database.csv file\n",
    "file_path = \"../Vacation_Search/WeatherPy_vacation.csv\"\n",
    "\n",
    "# Read the WeatherPy_vacation.csv into a DataFrame\n",
    "vacation_df = pd.read_csv(file_path)\n",
    "\n",
    "# Display sample data\n",
    "vacation_df.head()"
   ]
  },
  {
   "cell_type": "markdown",
   "metadata": {},
   "source": [
    "**Note:** If the resulting DataFrame is empty, uncomment the following code to load sample data into the `clean_hotel_df`."
   ]
  },
  {
   "cell_type": "code",
   "execution_count": 8,
   "metadata": {},
   "outputs": [],
   "source": [
    "# In case of an empty DataFrame, load the sample data provided\n",
    "# clean_hotel_df = pd.read_csv(\"WeatherPy_vacation-backup.csv\")\n",
    "# clean_hotel_df.head(10)"
   ]
  },
  {
   "cell_type": "markdown",
   "metadata": {
    "tags": []
   },
   "source": [
    "## In this step, you will set-up the pop-up markers. Review the code to create a marker layer map of the vacation search results. This code is the same as in Deliverable 2."
   ]
  },
  {
   "cell_type": "code",
   "execution_count": 9,
   "metadata": {},
   "outputs": [],
   "source": [
    "# Review the formatting template\n",
    "info_box_template = \"\"\"\n",
    "<dl>\n",
    "<dt>Hotel Name</dt><dd>{Hotel Name}</dd>\n",
    "<dt>City</dt><dd>{City}</dd>\n",
    "<dt>Country</dt><dd>{Country}</dd>\n",
    "<dt>Current Weather</dt><dd>{Current Description} and {Max Temp} °F</dd>\n",
    "</dl>\n",
    "\"\"\"\n",
    "\n",
    "# Get the data from each row and add it to the formatting template and store the data in a list\n",
    "hotel_info = [info_box_template.format(**row) for index, row in vacation_df.iterrows()]\n",
    "\n",
    "# Get the latitude and longitude from each row and store in a new DataFrame.\n",
    "locations = vacation_df[[\"Lat\", \"Lng\"]]"
   ]
  },
  {
   "cell_type": "code",
   "execution_count": 10,
   "metadata": {},
   "outputs": [
    {
     "data": {
      "application/vnd.jupyter.widget-view+json": {
       "model_id": "1cd3310747564efbac63be47f8568057",
       "version_major": 2,
       "version_minor": 0
      },
      "text/plain": [
       "Figure(layout=FigureLayout(height='420px'))"
      ]
     },
     "metadata": {},
     "output_type": "display_data"
    }
   ],
   "source": [
    "# Add a marker layer for each city to the map.\n",
    "marker_layer = gmaps.marker_layer(locations, info_box_content=hotel_info)\n",
    "fig = gmaps.figure()\n",
    "fig.add_layer(marker_layer)\n",
    "\n",
    "# Display the figure\n",
    "fig"
   ]
  },
  {
   "cell_type": "markdown",
   "metadata": {},
   "source": [
    "## From the vacation search map, *choose four cities* that a customer might want to visit. They should be close together and in the same country."
   ]
  },
  {
   "cell_type": "code",
   "execution_count": 11,
   "metadata": {},
   "outputs": [],
   "source": [
    "# Create DataFrames for each city by filtering the 'vacation_df' using the loc method. \n",
    "# The starting and ending city should be the same city.\n",
    "vacation_start = vacation_df.loc[vacation_df[\"City\"] == \"Malpe\"]\n",
    "vacation_end = vacation_df.loc[vacation_df[\"City\"] == \"Malpe\"]\n",
    "vacation_stop1 = vacation_df.loc[vacation_df[\"City\"] == \"Pithapuram\"]\n",
    "vacation_stop2 = vacation_df.loc[vacation_df[\"City\"] == \"Palasa\"]\n",
    "vacation_stop3 = vacation_df.loc[vacation_df[\"City\"] == \"Gidam\"]"
   ]
  },
  {
   "cell_type": "markdown",
   "metadata": {},
   "source": [
    "## Use the `to_numpy()` function and list indexing to write code to retrieve the latitude-longitude pairs as tuples from each city DataFrame."
   ]
  },
  {
   "cell_type": "code",
   "execution_count": 13,
   "metadata": {},
   "outputs": [
    {
     "name": "stdout",
     "output_type": "stream",
     "text": [
      "Start: (13.35, 74.7167), End: (13.35, 74.7167)\n",
      "Stop 1: (17.1167, 82.2667), Stop 2: (18.7667, 84.4167) , Stop 3: (18.9833, 81.4)\n"
     ]
    }
   ],
   "source": [
    "# Get the latitude-longitude pairs as tuples from each city DataFrame using the to_numpy function and list indexing.\n",
    "start = vacation_start[\"Lat\"].to_numpy()[0],vacation_start[\"Lng\"].to_numpy()[0]\n",
    "end = vacation_start[\"Lat\"].to_numpy()[0],vacation_start[\"Lng\"].to_numpy()[0]\n",
    "#print(f'Start: {start}, End: {end}')\n",
    "stop1 = vacation_stop1[\"Lat\"].to_numpy()[0],vacation_stop1[\"Lng\"].to_numpy()[0]\n",
    "stop2 = vacation_stop2[\"Lat\"].to_numpy()[0],vacation_stop2[\"Lng\"].to_numpy()[0]\n",
    "stop3 = vacation_stop3[\"Lat\"].to_numpy()[0],vacation_stop3[\"Lng\"].to_numpy()[0]\n",
    "#print(f'Stop 1: {stop1}, Stop 2: {stop2} , Stop 3: {stop3}')"
   ]
  },
  {
   "cell_type": "markdown",
   "metadata": {},
   "source": [
    "## Use the [gmaps documentation](https://jupyter-gmaps.readthedocs.io/en/latest/tutorial.html#directions-layer) to create a directions layer map using the variables from the previous step. Where the starting and ending city are the same city, the `waypoints` are the three other cities, and the `travel_mode` is either `\"DRIVING\"`, `\"BICYCLING\"`, or `\"WALKING\"`."
   ]
  },
  {
   "cell_type": "code",
   "execution_count": 14,
   "metadata": {
    "tags": []
   },
   "outputs": [
    {
     "data": {
      "application/vnd.jupyter.widget-view+json": {
       "model_id": "d005ecd9f42942daae097fbae08f5216",
       "version_major": 2,
       "version_minor": 0
      },
      "text/plain": [
       "Figure(layout=FigureLayout(height='420px'))"
      ]
     },
     "metadata": {},
     "output_type": "display_data"
    }
   ],
   "source": [
    "# Define a new figure object\n",
    "fig = gmaps.figure()\n",
    "\n",
    "# Create a direction layer map using the start and end latitude-longitude pairs, and stop1, stop2, and stop3 as the waypoints.\n",
    "# The travel_mode should be \"DRIVING\", \"BICYCLING\", or \"WALKING\".\n",
    "vacation_itinerary = gmaps.directions_layer(\n",
    "        start, end, waypoints=[stop1, stop2, stop3],\n",
    "        travel_mode='DRIVING')\n",
    "\n",
    "# Add the layer to the map\n",
    "fig.add_layer(vacation_itinerary)\n",
    "\n",
    "# Display the map\n",
    "fig"
   ]
  },
  {
   "cell_type": "markdown",
   "metadata": {},
   "source": [
    "## Use the provided `concat()` function code snippet to combine the four separate city DataFrames into one DataFrame."
   ]
  },
  {
   "cell_type": "code",
   "execution_count": 15,
   "metadata": {},
   "outputs": [
    {
     "data": {
      "text/html": [
       "<div>\n",
       "<style scoped>\n",
       "    .dataframe tbody tr th:only-of-type {\n",
       "        vertical-align: middle;\n",
       "    }\n",
       "\n",
       "    .dataframe tbody tr th {\n",
       "        vertical-align: top;\n",
       "    }\n",
       "\n",
       "    .dataframe thead th {\n",
       "        text-align: right;\n",
       "    }\n",
       "</style>\n",
       "<table border=\"1\" class=\"dataframe\">\n",
       "  <thead>\n",
       "    <tr style=\"text-align: right;\">\n",
       "      <th></th>\n",
       "      <th>City_ID</th>\n",
       "      <th>City</th>\n",
       "      <th>Country</th>\n",
       "      <th>Max Temp</th>\n",
       "      <th>Current Description</th>\n",
       "      <th>Lat</th>\n",
       "      <th>Lng</th>\n",
       "      <th>Hotel Name</th>\n",
       "    </tr>\n",
       "  </thead>\n",
       "  <tbody>\n",
       "    <tr>\n",
       "      <th>0</th>\n",
       "      <td>253</td>\n",
       "      <td>Malpe</td>\n",
       "      <td>IN</td>\n",
       "      <td>74.50</td>\n",
       "      <td>heavy intensity rain</td>\n",
       "      <td>13.3500</td>\n",
       "      <td>74.7167</td>\n",
       "      <td>Hotel Sri Krishna Residency</td>\n",
       "    </tr>\n",
       "    <tr>\n",
       "      <th>1</th>\n",
       "      <td>630</td>\n",
       "      <td>Pithapuram</td>\n",
       "      <td>IN</td>\n",
       "      <td>71.10</td>\n",
       "      <td>broken clouds</td>\n",
       "      <td>17.1167</td>\n",
       "      <td>82.2667</td>\n",
       "      <td>Srinivasa Rice Industry</td>\n",
       "    </tr>\n",
       "    <tr>\n",
       "      <th>2</th>\n",
       "      <td>297</td>\n",
       "      <td>Palasa</td>\n",
       "      <td>IN</td>\n",
       "      <td>68.00</td>\n",
       "      <td>clear sky</td>\n",
       "      <td>18.7667</td>\n",
       "      <td>84.4167</td>\n",
       "      <td>Balaji tifen &amp; meals veg &amp; non veg hotel</td>\n",
       "    </tr>\n",
       "    <tr>\n",
       "      <th>3</th>\n",
       "      <td>551</td>\n",
       "      <td>Gidam</td>\n",
       "      <td>IN</td>\n",
       "      <td>59.54</td>\n",
       "      <td>clear sky</td>\n",
       "      <td>18.9833</td>\n",
       "      <td>81.4000</td>\n",
       "      <td>Dhanshree Lodge And DormItory</td>\n",
       "    </tr>\n",
       "  </tbody>\n",
       "</table>\n",
       "</div>"
      ],
      "text/plain": [
       "   City_ID        City Country  Max Temp   Current Description      Lat  \\\n",
       "0      253       Malpe      IN     74.50  heavy intensity rain  13.3500   \n",
       "1      630  Pithapuram      IN     71.10         broken clouds  17.1167   \n",
       "2      297      Palasa      IN     68.00             clear sky  18.7667   \n",
       "3      551       Gidam      IN     59.54             clear sky  18.9833   \n",
       "\n",
       "       Lng                                Hotel Name  \n",
       "0  74.7167               Hotel Sri Krishna Residency  \n",
       "1  82.2667                   Srinivasa Rice Industry  \n",
       "2  84.4167  Balaji tifen & meals veg & non veg hotel  \n",
       "3  81.4000             Dhanshree Lodge And DormItory  "
      ]
     },
     "execution_count": 15,
     "metadata": {},
     "output_type": "execute_result"
    }
   ],
   "source": [
    "#  Combine the four city DataFrames into one DataFrame using the concat() function.\n",
    "itinerary_df = pd.concat(\n",
    "    [\n",
    "        vacation_start,\n",
    "        vacation_stop1,\n",
    "        vacation_stop2,\n",
    "        vacation_stop3\n",
    "    ],\n",
    "    ignore_index = True\n",
    ")\n",
    "\n",
    "# Display sample data\n",
    "itinerary_df"
   ]
  },
  {
   "cell_type": "markdown",
   "metadata": {},
   "source": [
    "## Refactor the code from Step 6 to create a new marker layer map of the cities on the travel route."
   ]
  },
  {
   "cell_type": "code",
   "execution_count": 16,
   "metadata": {},
   "outputs": [],
   "source": [
    "# Review the formatting template\n",
    "info_box_template = \"\"\"\n",
    "<dl>\n",
    "<dt>Hotel Name</dt><dd>{Hotel Name}</dd>\n",
    "<dt>City</dt><dd>{City}</dd>\n",
    "<dt>Country</dt><dd>{Country}</dd>\n",
    "<dt>Current Weather</dt><dd>{Current Description} and {Max Temp} °F</dd>\n",
    "</dl>\n",
    "\"\"\"\n",
    "\n",
    "# Get the data from each row and add it to the formatting template and store the data in a list\n",
    "hotel_info = [info_box_template.format(**row) for index, row in itinerary_df.iterrows()]\n",
    "\n",
    "# Get the latitude and longitude from each row and store in a new DataFrame.\n",
    "locations = itinerary_df[[\"Lat\", \"Lng\"]]"
   ]
  },
  {
   "cell_type": "code",
   "execution_count": 17,
   "metadata": {},
   "outputs": [
    {
     "data": {
      "application/vnd.jupyter.widget-view+json": {
       "model_id": "f2c6368b070249bdaabc31233d7a3139",
       "version_major": 2,
       "version_minor": 0
      },
      "text/plain": [
       "Figure(layout=FigureLayout(height='420px'))"
      ]
     },
     "metadata": {},
     "output_type": "display_data"
    }
   ],
   "source": [
    "# Add a marker layer for each city to the map.\n",
    "locations = itinerary_df[[\"Lat\", \"Lng\"]]\n",
    "marker_layer = gmaps.marker_layer(locations, info_box_content=hotel_info)\n",
    "\n",
    "\n",
    "# Define a new figure object\n",
    "fig = gmaps.figure()\n",
    "\n",
    "# Add the layer to the map\n",
    "fig.add_layer(marker_layer)\n",
    "\n",
    "# Display the map\n",
    "fig"
   ]
  },
  {
   "cell_type": "code",
   "execution_count": null,
   "metadata": {},
   "outputs": [],
   "source": []
  }
 ],
 "metadata": {
  "kernelspec": {
   "display_name": "Python 3 (ipykernel)",
   "language": "python",
   "name": "python3"
  },
  "language_info": {
   "codemirror_mode": {
    "name": "ipython",
    "version": 3
   },
   "file_extension": ".py",
   "mimetype": "text/x-python",
   "name": "python",
   "nbconvert_exporter": "python",
   "pygments_lexer": "ipython3",
   "version": "3.7.13"
  },
  "latex_envs": {
   "LaTeX_envs_menu_present": true,
   "autoclose": false,
   "autocomplete": true,
   "bibliofile": "biblio.bib",
   "cite_by": "apalike",
   "current_citInitial": 1,
   "eqLabelWithNumbers": true,
   "eqNumInitial": 1,
   "hotkeys": {
    "equation": "Ctrl-E",
    "itemize": "Ctrl-I"
   },
   "labels_anchors": false,
   "latex_user_defs": false,
   "report_style_numbering": false,
   "user_envs_cfg": false
  }
 },
 "nbformat": 4,
 "nbformat_minor": 4
}
